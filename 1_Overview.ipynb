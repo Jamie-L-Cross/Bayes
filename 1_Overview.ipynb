{
 "cells": [
  {
   "cell_type": "markdown",
   "metadata": {},
   "source": [
    "# Introduction to Bayesian Econometrics (DRE 7030)\n",
    "### Created by [Jamie Cross](https://sites.google.com/view/jamiecross/home) - jamie.cross(at)bi.no\n",
    "\n",
    "## Learning outcomes \n",
    "This is an introductory course in Bayesian econometrics. The intended audience is graduate students and researchers in economics, finance and related fields. After completing the course, you will (hopefully) have developed the ability to contrast classical and Bayesian thinking in econometrics, and be able to apply Bayesian methods in qualitative research. Topics include: \n",
    "\n",
    "1. Overview of Bayesian statistics: how it differs from classical/frequentist statistics and how it's applied in economics (AKA econometrics)\n",
    "2. How to estimate models using Markov chain Monte Carlo (MCMC) methods: Monte Carlo Integration, Gibbs Sampling and Metropolis-Hastings\n",
    "3. Estimation and application of commonly used models: linear regression, vector autoregression and state-space models\n",
    "\n",
    "## About these Lectures\n",
    "### Jupyter notebooks with Julia\n",
    "All lectures will be delivered using [*Jupyter notebooks*](https://jupyter.org/) in which we will use the programming language [*Julia*](https://julialang.org/). Jupyter notebooks are useful because they allow for an interactive experience in which we can do math, estimate models and conduct simulations without the need to switch programs. I will also post them on [GitHub](https://github.com/Jamie-L-Cross/Bayes) so that you can download them and modify them directly (instead of making your own notes from scratch). By default Jupyter notebooks allow you to use the programming language *Python*. Both languages are open source and free to use, however I prefer *Julia* because it has easier to write syntax and is faster when conducting matrix computations (which we will do a lot of in this course). \n",
    "\n",
    "#### Jula vs MATLAB\n",
    "For those with coding experience in the programming language MATLAB, note that Julia syntax is almost identical, so there is a low cost to learning Julia. [QuantEcon](https://quantecon.org/) provide a nice [cheat cheat](https://cheatsheets.quantecon.org/) for converting MATLAB syntax to Julia is provided as well as a list of [Julia's advantages](https://julia.quantecon.org/about_lectures.html) over MATLAB and other programming languages. In my opinion, the three main advantages of using Julia over MATLAB are that (1) it's free and (2) it's fast and (3) it's compatible with Jupyter notebooks (great for teaching/communicating). The cost of using Julia is that it has fewer libraries than MATLAB. That being said, there are a bunch of [Julia packages](https://julialang.org/packages/) available with more popping up everyday.\n",
    "\n",
    "#### Software Installation\n",
    "A simple step-by-step guide to installing both Julia and Jupyter notebooks can be found [here](https://datatofish.com/add-julia-to-jupyter/).\n",
    "\n",
    "#### Getting started \n",
    "After installing the software, I highly recommend reading [this chapter](https://julia.quantecon.org/getting_started_julia/index.html) on *Getting Started with Julia* from [this lecture series](https://julia.quantecon.org/index_toc.html) by [QuantEcon](https://quantecon.org/). \n",
    "\n",
    "\n",
    "### Material\n",
    "The course material will be based on my own understanding of the various topics we consider. This knowledge has been accumulated from numerous resources. Some particularly influential resources which I recommend you look at are:\n",
    "1. Free book on Bayesian Macroeconometrics by Joshua Chan: http://joshuachan.org/notes_BayesMacro.html. This book is covers most of the algorithms and models that we will learn here. He also provides associated MATLAB codes. \n",
    "2. Bayesian Econometrics by Gary Koop. This book is a classic in Bayesian econometrics and provides great intuition for Bayesian thinking.\n",
    "3. Bayesian Econometric Methods (Econometric Exercises) 2nd Edition, by Joshua CC Chan, Gary Koop, Dale Poirier and Justin Tobias. This is a book of exercises and associated MATLAB codes. It is an extremely useful companion to Josh and Gary's textbooks. \n",
    "\n",
    "In addition to these resources, you might find the following useful:\n",
    "1. [QuantEcon](https://quantecon.org/) website for economic modeling (in both Julia and Python)\n",
    "\n",
    "Many academics provide free to use code (mostly provided in MATLAB but easily translatable into Julia):  \n",
    "1.\t[Joshua Chan](http://joshuachan.org/code.html)\n",
    "2.\t[Haroon Mumtaz](https://sites.google.com/site/hmumtaz77/code)\n",
    "3.\t[Dimitris Korobilis](https://sites.google.com/site/dimitriskorobilis/matlab)\n",
    "4.\t[Gary Koop](https://sites.google.com/site/garykoop/home/computer-code-2)\n",
    "\n",
    "## Further reading\n",
    "Throughout the lectures I will provide references to related content that I find useful. Unfortunately we won't be able to cover everything. Here is a list of references on furthers:\n",
    "\n",
    "**Bayesian Identification of BVAR models**\n",
    "[Christiane Baumeister](https://sites.google.com/site/cjsbaumeister/home) and [James Hamilton](https://econweb.ucsd.edu/~jhamilto/) have a series of papers that implement short-run exclusion restrictions and sign restrictions using the Metropolis-Hastings algorithm:\n",
    "1. [Original theory paper](https://sites.google.com/site/cjsbaumeister/research) and [example of theoretical implications](https://docs.google.com/viewer?a=v&pid=sites&srcid=ZGVmYXVsdGRvbWFpbnxjanNiYXVtZWlzdGVyfGd4OjRiMjUwYTZhZDc5MTM4YjM)\n",
    "2. Applications in [US monetary policy](https://docs.google.com/viewer?a=v&pid=sites&srcid=ZGVmYXVsdGRvbWFpbnxjanNiYXVtZWlzdGVyfGd4OjRkZWU0OWY4MjY0Y2U2NjI) and [the global market for crude oil](https://docs.google.com/viewer?a=v&pid=sites&srcid=ZGVmYXVsdGRvbWFpbnxjanNiYXVtZWlzdGVyfGd4OjE2YjljNzA1MThjMjkzODc)"
   ]
  }
 ],
 "metadata": {
  "kernelspec": {
   "display_name": "Julia 1.5.1",
   "language": "julia",
   "name": "julia-1.5"
  },
  "language_info": {
   "file_extension": ".jl",
   "mimetype": "application/julia",
   "name": "julia",
   "version": "1.5.1"
  }
 },
 "nbformat": 4,
 "nbformat_minor": 2
}
